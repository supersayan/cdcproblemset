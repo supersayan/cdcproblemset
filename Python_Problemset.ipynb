{
  "nbformat": 4,
  "nbformat_minor": 0,
  "metadata": {
    "colab": {
      "name": "Python Problemset.ipynb",
      "provenance": [],
      "collapsed_sections": [
        "hPiv_beouvrW",
        "i3LMfIK4xPj6",
        "NF_h6gC_6b3x",
        "5advMos8u_fK",
        "AXaBCfnTvZWw",
        "Z1PGEWbk6TKB",
        "-TRiVEtozt5B",
        "jGDxHZFb2BBl",
        "YUD7mn3t6O-c",
        "gA1nkZvv33YJ",
        "qhHGVE1y4Uqp",
        "85VSV5DH6J3U",
        "KVySiFet58AM",
        "iYVhYfg17WGZ",
        "7h21JAxl6ES9",
        "bXyZVSQ78Qcr",
        "eNvtik-FJJEN",
        "1ObRAzJ7JNea",
        "oI1kuYcAJ0iV",
        "nPwTxdLd9Fcl",
        "71Hv663F58KI",
        "hPrM_qZ_9UPd",
        "--mcfWIj996J",
        "fj9peM4O52t1",
        "BtpXThxN_P3y",
        "6YzrXoAK_6Nl",
        "xqcGYOE_5vt4",
        "qnyqvnuBA6Eq",
        "6RpsnZW5BbVJ",
        "SRFyeChK5gee",
        "j8wer2lqCQM7",
        "p5bEkz5kED1V",
        "9CiGzCckFF5F",
        "Ne0OqvM8yei0",
        "Fbxyg-ARzSJx",
        "Iu1nEHBs2ZUy",
        "02oXm9A94rFo",
        "xgLyaZ3e_Xkr",
        "6iCsX0CR_5Xu",
        "bjqnZ1uO_6_v",
        "2wa2-X6H_82G",
        "7wxEtClPPwHd",
        "aaE3PKq8Q9yD"
      ],
      "toc_visible": true,
      "include_colab_link": true
    },
    "kernelspec": {
      "name": "python3",
      "display_name": "Python 3"
    }
  },
  "cells": [
    {
      "cell_type": "markdown",
      "metadata": {
        "id": "view-in-github",
        "colab_type": "text"
      },
      "source": [
        "<a href=\"https://colab.research.google.com/github/supersayan/cdcproblemset/blob/master/Python_Problemset.ipynb\" target=\"_parent\"><img src=\"https://colab.research.google.com/assets/colab-badge.svg\" alt=\"Open In Colab\"/></a>"
      ]
    },
    {
      "cell_type": "markdown",
      "metadata": {
        "id": "YoTzybxtVbGc"
      },
      "source": [
        "# Python Beginner Problem Set\n",
        "\n",
        "Hello! This is a problem set aimed at beginners who want to learn a little Python and some basic applications to data science.\n",
        "\n",
        "Things this problem set will go over\n",
        "\n",
        "\n",
        "*   Printing out values\n",
        "*   Variables and Data Types\n",
        "*   Basic Functions\n",
        "*   Basic Data Structures (Lists and Dictionaries)\n",
        "*   For loops\n",
        "*   Reading CSVs\n",
        "*   Graphing with Matplotlib\n",
        "\n",
        "\n",
        "This is by far not everything in Python. For those who already know Python, don't expect to learn too much if at all. Also note that while this problem set is designed for beginners, it is also made in a way that it still requires some googling to complete.\n",
        "\n",
        "Before you do this problem set, please go over basic Python syntax.\n",
        "https://www.w3schools.com/python/python_syntax.asp \n",
        "\n",
        "\n",
        "\n"
      ]
    },
    {
      "cell_type": "markdown",
      "metadata": {
        "id": "yoFu-ZfAakt7"
      },
      "source": [
        "## IMPORTANT: THIS COLAB FILE WILL NOT SAVE IN SANDBOX MODE, PLEASE SAVE A COPY OF THE COLAB TO SAVE"
      ]
    },
    {
      "cell_type": "markdown",
      "metadata": {
        "id": "hPiv_beouvrW"
      },
      "source": [
        "# Problem 1: Printing to Console"
      ]
    },
    {
      "cell_type": "markdown",
      "metadata": {
        "id": "agVY3uti6gxx"
      },
      "source": [
        "### Problem:\n",
        "\n",
        "Print your 'Hello World' into the console"
      ]
    },
    {
      "cell_type": "code",
      "metadata": {
        "id": "qSy0QFsRutTQ"
      },
      "source": [
        "# Your code below\n"
      ],
      "execution_count": 2,
      "outputs": []
    },
    {
      "cell_type": "markdown",
      "metadata": {
        "id": "yWfJHocFyHcf"
      },
      "source": [
        "### Hint"
      ]
    },
    {
      "cell_type": "markdown",
      "metadata": {
        "id": "lqZsjvCCvG_y"
      },
      "source": [
        "Look into the default Python functions for printing\n",
        "\n",
        "https://www.learnpython.org/en/Hello,_World! "
      ]
    },
    {
      "cell_type": "markdown",
      "metadata": {
        "id": "i3LMfIK4xPj6"
      },
      "source": [
        "# Problem 2: Variables"
      ]
    },
    {
      "cell_type": "markdown",
      "metadata": {
        "id": "NF_h6gC_6b3x"
      },
      "source": [
        "### Problem:\n",
        "\n",
        "Assign the a value to a variable below and then print it out"
      ]
    },
    {
      "cell_type": "code",
      "metadata": {
        "id": "Xj4m0il5xqFc"
      },
      "source": [
        "# Your code here"
      ],
      "execution_count": 3,
      "outputs": []
    },
    {
      "cell_type": "markdown",
      "metadata": {
        "id": "5advMos8u_fK"
      },
      "source": [
        "### Hint"
      ]
    },
    {
      "cell_type": "markdown",
      "metadata": {
        "id": "Q-ZKaXPryJDG"
      },
      "source": [
        "Here's an example of assigning a number to a variable\n",
        "\n",
        "```\n",
        "exampleVariableName = 123\n",
        "```\n",
        "\n",
        "https://www.w3schools.com/python/python_variables.asp "
      ]
    },
    {
      "cell_type": "markdown",
      "metadata": {
        "id": "AXaBCfnTvZWw"
      },
      "source": [
        "# Problem 3: Data Types\n",
        "\n",
        "\n"
      ]
    },
    {
      "cell_type": "markdown",
      "metadata": {
        "id": "Z1PGEWbk6TKB"
      },
      "source": [
        "### Problem\n",
        "\n",
        "Create 4 values that would satisfy the following data types\n",
        "\n",
        "\n",
        "1.   int\n",
        "2.   float\n",
        "3.   bool\n",
        "4.   string"
      ]
    },
    {
      "cell_type": "code",
      "metadata": {
        "id": "4swCsNw0v_IC"
      },
      "source": [
        "# Assign your values to the respective variables\n",
        "\n",
        "# This variable holds the int value\n",
        "holdsInt = \n",
        "\n",
        "# This variable holds the float value\n",
        "holdsFloat = \n",
        "\n",
        "# This variable holds the bool value\n",
        "holdsBool = \n",
        "\n",
        "# This variable holds the String value\n",
        "holdsString = \n",
        "\n",
        "print(type(holdsInt))\n",
        "print(type(holdsFloat))\n",
        "print(type(holdsBool))\n",
        "print(type(holdsString))"
      ],
      "execution_count": null,
      "outputs": []
    },
    {
      "cell_type": "markdown",
      "metadata": {
        "id": "-TRiVEtozt5B"
      },
      "source": [
        "### Hint"
      ]
    },
    {
      "cell_type": "markdown",
      "metadata": {
        "id": "osltXVGBzvq_"
      },
      "source": [
        "In Python, there are a few common data types:\n",
        "\n",
        "1.    str: this type holds text like strings. For example 'hello world' is a string as notated by the '' surrounding the characters\n",
        "2.    int: this type holds integers such as -1, 0, 1, 2, 3, 10, 9999, etc. Please note that ints do not have decimal places, there is another data type for that.\n",
        "3.    float: this type also holds numbers, but in contrast to ints, it can hold values like 1.1, 10.004, -3.14, etc. These data types allow for floating point operations.\n",
        "4.    bool: this type holds Boolean values such as True and False.\n",
        "\n",
        "type() gives the type of the object passed into it\n",
        "\n",
        "https://www.w3schools.com/python/python_datatypes.asp "
      ]
    },
    {
      "cell_type": "markdown",
      "metadata": {
        "id": "jGDxHZFb2BBl"
      },
      "source": [
        "# Problem 4: Functions\n",
        "\n",
        "\n",
        "\n"
      ]
    },
    {
      "cell_type": "markdown",
      "metadata": {
        "id": "ZCu1mNCOWRCQ"
      },
      "source": [
        "Python has a lot of built in functions that can help you do things without writing your own code. They are often called in the notation:\n",
        "```\n",
        "function(args)\n",
        "```\n",
        "You can also write your own functions with the def keyword.\n"
      ]
    },
    {
      "cell_type": "markdown",
      "metadata": {
        "id": "YUD7mn3t6O-c"
      },
      "source": [
        "### Problem:\n",
        "\n",
        "Create and execute a function that appends 2 strings together and then prints it out"
      ]
    },
    {
      "cell_type": "code",
      "metadata": {
        "id": "_B4J8WcS3z_B"
      },
      "source": [
        "# Your code here\n"
      ],
      "execution_count": null,
      "outputs": []
    },
    {
      "cell_type": "markdown",
      "metadata": {
        "id": "gA1nkZvv33YJ"
      },
      "source": [
        "### Hint"
      ]
    },
    {
      "cell_type": "markdown",
      "metadata": {
        "id": "m5XQ0Not35ug"
      },
      "source": [
        "Create Function like this\n",
        "\n",
        "```\n",
        "def functionName(args):\n",
        "  # function body goes here\n",
        "```\n",
        "\n",
        "Execute the Function like this\n",
        "\n",
        "```\n",
        "functionName(args)\n",
        "```\n",
        "https://www.w3schools.com/python/python_lists.asp \n"
      ]
    },
    {
      "cell_type": "markdown",
      "metadata": {
        "id": "qhHGVE1y4Uqp"
      },
      "source": [
        "# Problem 5: Creating Lists\n",
        "\n"
      ]
    },
    {
      "cell_type": "markdown",
      "metadata": {
        "id": "85VSV5DH6J3U"
      },
      "source": [
        "### Problem:\n",
        "\n",
        "Create a list that holds 2 strings, 1 bool, and a 3 floats"
      ]
    },
    {
      "cell_type": "code",
      "metadata": {
        "id": "yKp9nmbU5miu"
      },
      "source": [
        "# Your code here"
      ],
      "execution_count": null,
      "outputs": []
    },
    {
      "cell_type": "markdown",
      "metadata": {
        "id": "KVySiFet58AM"
      },
      "source": [
        "### Hint"
      ]
    },
    {
      "cell_type": "markdown",
      "metadata": {
        "id": "TYBYona259SV"
      },
      "source": [
        "Here is an example of a Python list holding 5 integers\n",
        "```\n",
        "[1,2,5,4,10]\n",
        "```\n",
        "https://www.w3schools.com/python/python_lists.asp \n"
      ]
    },
    {
      "cell_type": "markdown",
      "metadata": {
        "id": "iYVhYfg17WGZ"
      },
      "source": [
        "# Problem 6: Editing Lists"
      ]
    },
    {
      "cell_type": "markdown",
      "metadata": {
        "id": "7h21JAxl6ES9"
      },
      "source": [
        "### Problem:\n",
        "\n",
        "Edit the following list so that it only holds 10 strings (No ints allowed)"
      ]
    },
    {
      "cell_type": "code",
      "metadata": {
        "id": "8qC34b7W701r"
      },
      "source": [
        "# List to edit:\n",
        "p6List = [1,2,'Bob', 274, 'John Doe', 'Carolina', 'Data', 'Challenge']\n",
        "\n",
        "# Your code here\n",
        "\n",
        "\n",
        "\n",
        "print(p6List)"
      ],
      "execution_count": null,
      "outputs": []
    },
    {
      "cell_type": "markdown",
      "metadata": {
        "id": "bXyZVSQ78Qcr"
      },
      "source": [
        "### Hint"
      ]
    },
    {
      "cell_type": "markdown",
      "metadata": {
        "id": "lN3LdZ0x8Rh3"
      },
      "source": [
        "You can use pop, remove, and del to remove objects from a list\n",
        "\n",
        "You can use insert and append to add objects to a list\n",
        "\n",
        "https://www.w3schools.com/python/python_lists.asp "
      ]
    },
    {
      "cell_type": "markdown",
      "metadata": {
        "id": "eNvtik-FJJEN"
      },
      "source": [
        "# Problem 7: Sorting Lists"
      ]
    },
    {
      "cell_type": "markdown",
      "metadata": {
        "id": "1ObRAzJ7JNea"
      },
      "source": [
        "### Problem:\n",
        "\n",
        "Sort the following list so that it is in order from greatest to least"
      ]
    },
    {
      "cell_type": "code",
      "metadata": {
        "id": "qoM6AN9UJVBg"
      },
      "source": [
        "# List to sort\n",
        "p7List = [1,4,2,67,123,65,1,345,8645,123,0]\n",
        "\n",
        "# Your code here\n",
        "\n",
        "\n",
        "\n",
        "print(p7List)"
      ],
      "execution_count": null,
      "outputs": []
    },
    {
      "cell_type": "markdown",
      "metadata": {
        "id": "oI1kuYcAJ0iV"
      },
      "source": [
        "### Hint"
      ]
    },
    {
      "cell_type": "markdown",
      "metadata": {
        "id": "JFWy_E3iJ1g1"
      },
      "source": [
        "For an easy way to sort a list, check out the documentation on lists in Python\n",
        "\n",
        "https://www.w3schools.com/python/ref_list_sort.asp "
      ]
    },
    {
      "cell_type": "markdown",
      "metadata": {
        "id": "nPwTxdLd9Fcl"
      },
      "source": [
        "# Problem 8: Creating Dicts"
      ]
    },
    {
      "cell_type": "markdown",
      "metadata": {
        "id": "71Hv663F58KI"
      },
      "source": [
        "### Problem:\n",
        "\n",
        "Make a dictionary with 5 key-value pairs. The keys must be animal names, and the values must be what color they are"
      ]
    },
    {
      "cell_type": "code",
      "metadata": {
        "id": "tWUkhRtH9Sis"
      },
      "source": [
        "# Your code here"
      ],
      "execution_count": null,
      "outputs": []
    },
    {
      "cell_type": "markdown",
      "metadata": {
        "id": "hPrM_qZ_9UPd"
      },
      "source": [
        "### Hint"
      ]
    },
    {
      "cell_type": "markdown",
      "metadata": {
        "id": "t8HTlfIt9VTg"
      },
      "source": [
        "Dicts generally look like this:\n",
        "```\n",
        "dict1 = {\n",
        "  key1: value1,\n",
        "  key2: value2,\n",
        "  key3: value3, \n",
        "}\n",
        "```\n",
        "\n",
        "https://www.w3schools.com/python/python_dictionaries.asp "
      ]
    },
    {
      "cell_type": "markdown",
      "metadata": {
        "id": "--mcfWIj996J"
      },
      "source": [
        "# Problem 9: Editing Dicts"
      ]
    },
    {
      "cell_type": "markdown",
      "metadata": {
        "id": "fj9peM4O52t1"
      },
      "source": [
        "### Problem:\n",
        "\n",
        "Edit this dictionary by adding your name as a key and your favorite ice cream flavor as a value. Also, remove the 'KMP' key and value from the dictionary"
      ]
    },
    {
      "cell_type": "code",
      "metadata": {
        "id": "3qpc_9Px-pe1"
      },
      "source": [
        "# Dict to edit\n",
        "p8Dict = {\n",
        "    'Rocky': 'Rocky Road',\n",
        "    'Kevin': 'Mint Chocolate Chip',\n",
        "    'Julia': 'Vanilla',\n",
        "    'Sean': 'Strawberry',\n",
        "    'KMP': 'Peach'\n",
        "}\n",
        "\n",
        "# Your code here"
      ],
      "execution_count": null,
      "outputs": []
    },
    {
      "cell_type": "markdown",
      "metadata": {
        "id": "BtpXThxN_P3y"
      },
      "source": [
        "### Hint"
      ]
    },
    {
      "cell_type": "markdown",
      "metadata": {
        "id": "1km2_-bd_Q3Q"
      },
      "source": [
        "You can add a new key like this:\n",
        "```\n",
        "dict[new key] = new value\n",
        "```\n",
        "\n",
        "You can remove a key value pair like this:\n",
        "```\n",
        "del dict[key]\n",
        "```\n",
        "https://www.w3schools.com/python/python_dictionaries.asp \n"
      ]
    },
    {
      "cell_type": "markdown",
      "metadata": {
        "id": "6YzrXoAK_6Nl"
      },
      "source": [
        "# Problem 10: For Loops"
      ]
    },
    {
      "cell_type": "markdown",
      "metadata": {
        "id": "xqcGYOE_5vt4"
      },
      "source": [
        "### Problem:\n",
        "\n",
        "Write a for loop that prints out each and every value in the given list"
      ]
    },
    {
      "cell_type": "code",
      "metadata": {
        "id": "HkFnkkObAaJ3"
      },
      "source": [
        "# List to print\n",
        "p9List = ['Somebody', 'Once', 'Told', 'Me', 'The', 'World', 'Is', 'Gonna', 'Roll', 'Me']\n",
        "\n",
        "# Your code here"
      ],
      "execution_count": null,
      "outputs": []
    },
    {
      "cell_type": "markdown",
      "metadata": {
        "id": "qnyqvnuBA6Eq"
      },
      "source": [
        "### Hint"
      ]
    },
    {
      "cell_type": "markdown",
      "metadata": {
        "id": "yidszK_lA7Dk"
      },
      "source": [
        "Loops generally look like this:\n",
        "```\n",
        "for value in iterable:\n",
        "  # loop body\n",
        "```\n",
        "\n",
        "iterable refers to the data structure (list, dict, etc.) that the loop is iterating over\n",
        "\n",
        "value holds the current value of the iterable as the loop traverses over it\n",
        "\n",
        "https://www.learnpython.org/en/Loops "
      ]
    },
    {
      "cell_type": "markdown",
      "metadata": {
        "id": "6RpsnZW5BbVJ"
      },
      "source": [
        "# Problem 11: Conditionals"
      ]
    },
    {
      "cell_type": "markdown",
      "metadata": {
        "id": "SRFyeChK5gee"
      },
      "source": [
        "### Problem:\n",
        "\n",
        "Write a conditional in the loop so that only negative numbers are printed into the console"
      ]
    },
    {
      "cell_type": "code",
      "metadata": {
        "id": "K6-ABbE4Bs6-"
      },
      "source": [
        "p9List = [-1, -2.642, 3, 10, 200, -999]\n",
        "\n",
        "for number in p9List:\n",
        "  # Write your conditional here"
      ],
      "execution_count": null,
      "outputs": []
    },
    {
      "cell_type": "markdown",
      "metadata": {
        "id": "j8wer2lqCQM7"
      },
      "source": [
        "### Hint"
      ]
    },
    {
      "cell_type": "markdown",
      "metadata": {
        "id": "ZgN8hxU3CRP8"
      },
      "source": [
        "Conditionals generally look like this\n",
        "\n",
        "```\n",
        "if booleanExpression1:\n",
        "  # conditional body 1\n",
        "elif booleanExpression2:\n",
        "  # conditional body 2\n",
        "else:\n",
        "  # conditional body 3\n",
        "```\n",
        "\n",
        "Boolean expressions are anything that evaluate to a boolean value (True/False). You can use logical operators like ==, !=, and 'in', to test values. You can use parenthesis, 'and', and 'or' operators to create complex expressions.\n",
        "\n",
        "https://medium.com/swlh/understanding-basic-decision-structures-in-python-24dd04f28717 \n"
      ]
    },
    {
      "cell_type": "markdown",
      "metadata": {
        "id": "p5bEkz5kED1V"
      },
      "source": [
        "# Problem 12: 2D Arrays"
      ]
    },
    {
      "cell_type": "markdown",
      "metadata": {
        "id": "nlI3rptd8oG_"
      },
      "source": [
        "### Problem:\n",
        "\n",
        "Use for loops to create a 20 by 20 2D array filled with values increasing from 0 to 399. The top left corner holds the number 0, the bottom right holds the number 399.\n",
        "\n",
        "\n",
        "\n",
        "```\n",
        "# This is a 2d array:\n",
        "array2d = [\n",
        "  [1,2,3,4],\n",
        "  [1,2,3,4],\n",
        "  [1,2,3,4],\n",
        "  [1,2,3,4]\n",
        "]\n",
        "```\n",
        "\n"
      ]
    },
    {
      "cell_type": "code",
      "metadata": {
        "id": "AXzHu426FC8O"
      },
      "source": [
        "# Your code here"
      ],
      "execution_count": null,
      "outputs": []
    },
    {
      "cell_type": "markdown",
      "metadata": {
        "id": "9CiGzCckFF5F"
      },
      "source": [
        "### Hint"
      ]
    },
    {
      "cell_type": "markdown",
      "metadata": {
        "id": "XZ3TWe2lFKiE"
      },
      "source": [
        "\n",
        "\n",
        "You can nest for loops inside for loops to automatically fill the array\n",
        "\n",
        "```\n",
        "for innerList in outerList:\n",
        "  # Outer loop body\n",
        "  for value in innerList:\n",
        "    # Inner loop body\n",
        "```\n",
        "\n",
        "Also, check out using the Python range() function with a for loop\n",
        "\n",
        "https://www.learnpython.org/en/Loops "
      ]
    },
    {
      "cell_type": "markdown",
      "metadata": {
        "id": "Ne0OqvM8yei0"
      },
      "source": [
        "# Problem 13: Reading CSVs"
      ]
    },
    {
      "cell_type": "markdown",
      "metadata": {
        "id": "Fbxyg-ARzSJx"
      },
      "source": [
        "### CSV Reading Demo"
      ]
    },
    {
      "cell_type": "code",
      "metadata": {
        "id": "wdZpN8WjzVg2"
      },
      "source": [
        "# Python is very famous for its extensive libraries\n",
        "# In order to read csv's you can import the csv library to use csv specific functions\n",
        "import csv\n",
        "\n",
        "# the open function opens the file\n",
        "with open('./sample_data/california_housing_test.csv') as file:\n",
        "\n",
        "  reader = csv.reader(file)\n",
        "\n",
        "  # the first row of the csv is always the header. The next() function returns the first row and then consumes it\n",
        "  header = next(reader)\n",
        "  print(header)\n",
        "  \n",
        "  # Then, you can iterate through and print out every other row with a for loop\n",
        "  for row in reader:\n",
        "    print(row)"
      ],
      "execution_count": null,
      "outputs": []
    },
    {
      "cell_type": "code",
      "metadata": {
        "id": "N3gQar6IOt3e"
      },
      "source": [
        "# The pandas library is one of the most popular in Python and it includes a read_csv function\n",
        "import pandas\n",
        "\n",
        "# The read_csv function can take a file and return a dataframe of the csv\n",
        "dataframe = pandas.read_csv('./sample_data/california_housing_test.csv')\n",
        "\n",
        "# Dataframes are more complicated to use, but the dataframe specific functions can often allow you to solve problems easily without much code\n",
        "print(dataframe)"
      ],
      "execution_count": null,
      "outputs": []
    },
    {
      "cell_type": "markdown",
      "metadata": {
        "id": "Iu1nEHBs2ZUy"
      },
      "source": [
        "### Problem:\n",
        "\n",
        "Read the CSV named california_housing_test.csv in the sample_data folder. And print only the rows where the housing median age is below thirty but the median income is above 10.00"
      ]
    },
    {
      "cell_type": "code",
      "metadata": {
        "id": "zR4-qJAp3yQS"
      },
      "source": [
        "# Your code here"
      ],
      "execution_count": null,
      "outputs": []
    },
    {
      "cell_type": "markdown",
      "metadata": {
        "id": "02oXm9A94rFo"
      },
      "source": [
        "### Hint"
      ]
    },
    {
      "cell_type": "markdown",
      "metadata": {
        "id": "4bIexWSX4smW"
      },
      "source": [
        "Since the values in csv files are often interpreted as strings, you need to be able to parse a string into a different data type. Look into the int() and float() functions for parsing strings into numbers\n",
        "\n",
        "https://www.freecodecamp.org/news/how-to-convert-strings-into-integers-in-python/ "
      ]
    },
    {
      "cell_type": "markdown",
      "metadata": {
        "id": "xgLyaZ3e_Xkr"
      },
      "source": [
        "# Problem 14: Graphing Data"
      ]
    },
    {
      "cell_type": "markdown",
      "metadata": {
        "id": "6iCsX0CR_5Xu"
      },
      "source": [
        "### Graphing Demo"
      ]
    },
    {
      "cell_type": "code",
      "metadata": {
        "id": "Nhw7I1Gu_6Z9"
      },
      "source": [
        "# the pandas library also has a read_excel() function that allows you to well, read excel files into a dataframe\n",
        "\n",
        "import matplotlib\n",
        "\n",
        "# This creates the figure within which to render\n",
        "figure = matplotlib.pyplot.figure()\n",
        "\n",
        "# This is a list of x values\n",
        "xValues = [1,2,3,4,5,6,7,8,9,10]\n",
        "# This is a list of y values\n",
        "yValues = [2,4,6,8,10,12,14,16,18,20]\n",
        "\n",
        "matplotlib.pyplot.scatter(xValues, yValues)"
      ],
      "execution_count": null,
      "outputs": []
    },
    {
      "cell_type": "markdown",
      "metadata": {
        "id": "bjqnZ1uO_6_v"
      },
      "source": [
        "### Problem:\n",
        "\n",
        "Create a line graph of the data in following list"
      ]
    },
    {
      "cell_type": "code",
      "metadata": {
        "id": "L94VhnWT_8b-"
      },
      "source": [
        "# Dictionary of data\n",
        "# data with the key: 'x' are x values, the ones with the key 'y' are y values\n",
        "p14Data = [\n",
        "           {'x': 2, 'y': 100},\n",
        "           {'x': 3, 'y': 101},\n",
        "           {'x': 5, 'y': 103},\n",
        "           {'x': 7, 'y': 100},\n",
        "           {'x': 9, 'y': 200},\n",
        "           {'x': 10, 'y': 10},\n",
        "           {'x': 14, 'y': 11},\n",
        "           {'x': 16, 'y': 18},\n",
        "           {'x': 17, 'y': 14},\n",
        "           {'x': 19, 'y': 16},\n",
        "           {'x': 20, 'y': 16},\n",
        "           {'x': 21, 'y': 12},\n",
        "           {'x': 24, 'y': 102},\n",
        "           {'x': 25, 'y': 131},\n",
        "           {'x': 26, 'y': 13},\n",
        "           {'x': 27, 'y': 12.6},\n",
        "           {'x': 29, 'y': 115},\n",
        "           {'x': 30, 'y': 12},\n",
        "           {'x': 40, 'y': 19},\n",
        "]\n",
        "\n",
        "# Your code here"
      ],
      "execution_count": null,
      "outputs": []
    },
    {
      "cell_type": "markdown",
      "metadata": {
        "id": "2wa2-X6H_82G"
      },
      "source": [
        "### Hint:"
      ]
    },
    {
      "cell_type": "markdown",
      "metadata": {
        "id": "TJGdtfF3__Gv"
      },
      "source": [
        "Use a for loop to go through the data and create 2 lists, one with the x values, and the other with the y values"
      ]
    },
    {
      "cell_type": "markdown",
      "metadata": {
        "id": "7wxEtClPPwHd"
      },
      "source": [
        "# Problem 15: Finding and Graphing a Data Set"
      ]
    },
    {
      "cell_type": "markdown",
      "metadata": {
        "id": "Zz0WZC3BQckQ"
      },
      "source": [
        "### Problem:\n",
        "\n",
        "Find your own data set (one that is neither included in the sample data provided by Google Colab nor one provided by the Data Challenge) and graph a small portion of your choosing.\n",
        "\n",
        "You can temporarily upload your file by pressing Files>Upload in the sidebar to the left."
      ]
    },
    {
      "cell_type": "code",
      "metadata": {
        "id": "QHNO4L-dQ8hu"
      },
      "source": [
        "# Your code here"
      ],
      "execution_count": null,
      "outputs": []
    },
    {
      "cell_type": "markdown",
      "metadata": {
        "id": "aaE3PKq8Q9yD"
      },
      "source": [
        "### Hint"
      ]
    },
    {
      "cell_type": "markdown",
      "metadata": {
        "id": "zFJ5CVa6Q_du"
      },
      "source": [
        "You can find good data on Github, Kaggle, or Google Public Data\n",
        "\n",
        "Good Data Sources:\n",
        "\n",
        "*   https://www.data.gov/ \n",
        "*   https://www.kaggle.com/datasets \n",
        "*   https://cloud.google.com/bigquery/public-data/ \n",
        "*   https://github.com/datasets \n",
        "\n"
      ]
    }
  ]
}